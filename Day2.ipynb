{
  "nbformat": 4,
  "nbformat_minor": 0,
  "metadata": {
    "colab": {
      "provenance": [],
      "authorship_tag": "ABX9TyNRKjUOJ766gw+zbRp854yG",
      "include_colab_link": true
    },
    "kernelspec": {
      "name": "python3",
      "display_name": "Python 3"
    },
    "language_info": {
      "name": "python"
    }
  },
  "cells": [
    {
      "cell_type": "markdown",
      "metadata": {
        "id": "view-in-github",
        "colab_type": "text"
      },
      "source": [
        "<a href=\"https://colab.research.google.com/github/mfsrajput/Python_learning/blob/main/Day2.ipynb\" target=\"_parent\"><img src=\"https://colab.research.google.com/assets/colab-badge.svg\" alt=\"Open In Colab\"/></a>"
      ]
    },
    {
      "cell_type": "code",
      "execution_count": 4,
      "metadata": {
        "colab": {
          "base_uri": "https://localhost:8080/"
        },
        "id": "YUkHH5lgd1rU",
        "outputId": "c012d727-c500-481a-cfb7-cf78d104b0cf"
      },
      "outputs": [
        {
          "output_type": "stream",
          "name": "stdout",
          "text": [
            "Enter a sentence:Today is our 2nd day of the Python challenge. I have successfully completed it\n",
            "\n",
            "Original: Today is our 2nd day of the Python challenge. I have successfully completed it\n",
            "Split words: ['Today', 'is', 'our', '2nd', 'day', 'of', 'the', 'Python', 'challenge.', 'I', 'have', 'successfully', 'completed', 'it']\n",
            "The number of words in the sentence is: 14\n",
            "Reversed: it completed successfully have I challenge. Python the of day 2nd our is Today\n",
            "\n"
          ]
        }
      ],
      "source": [
        "# Take input from the user\n",
        "text  = input(\"Enter a sentence:\")\n",
        "# Split the sentence into words\n",
        "words = text.split()\n",
        "# Count the number of words\n",
        "word_count = len(words)\n",
        "# Reverse the order of words\n",
        "reversed_text = ' '.join(reversed(words))\n",
        "# Print the result\n",
        "print(f\"\"\"\n",
        "Original: {text}\n",
        "Split words: {words}\n",
        "The number of words in the sentence is: {word_count}\n",
        "Reversed: {reversed_text}\n",
        "\"\"\")\n",
        "\n"
      ]
    }
  ]
}