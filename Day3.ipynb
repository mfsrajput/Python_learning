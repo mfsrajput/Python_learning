{
  "nbformat": 4,
  "nbformat_minor": 0,
  "metadata": {
    "colab": {
      "provenance": [],
      "authorship_tag": "ABX9TyMYXtLIU5w1cUJkf2Ft2pg6",
      "include_colab_link": true
    },
    "kernelspec": {
      "name": "python3",
      "display_name": "Python 3"
    },
    "language_info": {
      "name": "python"
    }
  },
  "cells": [
    {
      "cell_type": "markdown",
      "metadata": {
        "id": "view-in-github",
        "colab_type": "text"
      },
      "source": [
        "<a href=\"https://colab.research.google.com/github/mfsrajput/Python_learning/blob/main/Day3.ipynb\" target=\"_parent\"><img src=\"https://colab.research.google.com/assets/colab-badge.svg\" alt=\"Open In Colab\"/></a>"
      ]
    },
    {
      "cell_type": "code",
      "execution_count": 18,
      "metadata": {
        "colab": {
          "base_uri": "https://localhost:8080/"
        },
        "id": "A5Mqxw0Agoaf",
        "outputId": "52b9e64f-bc64-4486-af5c-eba92e4e6d8f"
      },
      "outputs": [
        {
          "output_type": "stream",
          "name": "stdout",
          "text": [
            "Enter a number:6\n",
            "No, 6 is not a prime number! ❌\n"
          ]
        }
      ],
      "source": [
        "# Function to check if a number is prime\n",
        "def is_prime(num):\n",
        "    if  num <  2:\n",
        "      return  False\n",
        "    for i in range(2, num):\n",
        "      if num % i == 0:\n",
        "          return False\n",
        "    return True\n",
        "# Take input from user\n",
        "number = int(input(\"Enter a number:\"))\n",
        "# Check and print result\n",
        "if is_prime(number):\n",
        "  print(f\"Yes, {number} is a prime number! ✅\")\n",
        "else:\n",
        "    print(f\"No, {number} is not a prime number! ❌\")\n"
      ]
    }
  ]
}